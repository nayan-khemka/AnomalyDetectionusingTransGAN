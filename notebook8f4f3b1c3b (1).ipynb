{
 "cells": [
  {
   "cell_type": "code",
   "execution_count": 1,
   "metadata": {
    "execution": {
     "iopub.execute_input": "2024-04-17T12:07:03.556162Z",
     "iopub.status.busy": "2024-04-17T12:07:03.555817Z",
     "iopub.status.idle": "2024-04-17T12:09:20.040086Z",
     "shell.execute_reply": "2024-04-17T12:09:20.039005Z",
     "shell.execute_reply.started": "2024-04-17T12:07:03.556133Z"
    }
   },
   "outputs": [],
   "source": [
    "!pip install --quiet \"pytorch-lightning\"\n",
    "!pip install --upgrade gdown --quiet\n",
    "!pip install -q matplotlib\n",
    "!pip install -q kornia\n",
    "!pip install -q opencv-python\n",
    "!pip install -q scipy\n",
    "!pip install -q numpy\n",
    "!pip install -q torchvision\n",
    "!pip install -q tensorboardX\n",
    "!pip install -q tqdm\n",
    "# !pip install -q wandb\n",
    "!pip install -q kaggle"
   ]
  },
  {
   "cell_type": "code",
   "execution_count": 2,
   "metadata": {
    "execution": {
     "iopub.execute_input": "2024-04-17T12:09:20.042358Z",
     "iopub.status.busy": "2024-04-17T12:09:20.042067Z",
     "iopub.status.idle": "2024-04-17T12:09:20.046873Z",
     "shell.execute_reply": "2024-04-17T12:09:20.045901Z",
     "shell.execute_reply.started": "2024-04-17T12:09:20.042321Z"
    }
   },
   "outputs": [],
   "source": [
    "# from kaggle_secrets import UserSecretsClient\n",
    "# import wandb\n",
    "# user_secrets = UserSecretsClient()\n",
    "\n",
    "# # I have saved my API token with \"wandb_api\" as Label. \n",
    "# # If you use some other Label make sure to change the same below. \n",
    "# wandb_api = user_secrets.get_secret(\"wandb-key\") \n",
    "\n",
    "# wandb.login(key=wandb_api)"
   ]
  },
  {
   "cell_type": "code",
   "execution_count": 3,
   "metadata": {
    "execution": {
     "iopub.execute_input": "2024-04-17T12:09:20.048426Z",
     "iopub.status.busy": "2024-04-17T12:09:20.048094Z",
     "iopub.status.idle": "2024-04-17T12:09:20.060885Z",
     "shell.execute_reply": "2024-04-17T12:09:20.059998Z",
     "shell.execute_reply.started": "2024-04-17T12:09:20.048397Z"
    }
   },
   "outputs": [],
   "source": [
    "# Initialize WandB\n",
    "# wandb.init(project='anomaly-cifar10')"
   ]
  },
  {
   "cell_type": "code",
   "execution_count": 4,
   "metadata": {
    "execution": {
     "iopub.execute_input": "2024-04-17T12:09:20.063722Z",
     "iopub.status.busy": "2024-04-17T12:09:20.063314Z",
     "iopub.status.idle": "2024-04-17T12:09:20.072714Z",
     "shell.execute_reply": "2024-04-17T12:09:20.071862Z",
     "shell.execute_reply.started": "2024-04-17T12:09:20.063693Z"
    }
   },
   "outputs": [],
   "source": [
    "# config = wandb.config\n",
    "# config.image_size = 32\n",
    "# config.patch_size = 4\n",
    "# config.latent_dim = 1024\n",
    "# config.num_heads = 4\n",
    "\n",
    "# config.device = \"cuda\"\n",
    "# config.out_features = 3\n"
   ]
  },
  {
   "cell_type": "code",
   "execution_count": 5,
   "metadata": {
    "execution": {
     "iopub.execute_input": "2024-04-17T12:09:20.074492Z",
     "iopub.status.busy": "2024-04-17T12:09:20.074151Z",
     "iopub.status.idle": "2024-04-17T12:09:23.886581Z",
     "shell.execute_reply": "2024-04-17T12:09:23.885408Z",
     "shell.execute_reply.started": "2024-04-17T12:09:20.074464Z"
    }
   },
   "outputs": [],
   "source": [
    "import torch\n",
    "import torch.nn.functional as F\n",
    "import random\n",
    "\n",
    "def DiffAugment(x, policy='', channels_first=True):\n",
    "    if policy:\n",
    "        if not channels_first:\n",
    "            x = x.permute(0, 3, 1, 2)\n",
    "        for p in policy.split(','):\n",
    "            for f in AUGMENT_FNS[p]:\n",
    "                x = f(x)\n",
    "        if not channels_first:\n",
    "            x = x.permute(0, 2, 3, 1)\n",
    "        x = x.contiguous()\n",
    "    return x\n",
    "\n",
    "\n",
    "def rand_brightness(x):\n",
    "    x = x + (torch.rand(x.size(0), 1, 1, 1, dtype=x.dtype, device=x.device) - 0.5)\n",
    "    return x\n",
    "\n",
    "\n",
    "def rand_saturation(x):\n",
    "    x_mean = x.mean(dim=1, keepdim=True)\n",
    "    x = (x - x_mean) * (torch.rand(x.size(0), 1, 1, 1, dtype=x.dtype, device=x.device) * 2) + x_mean\n",
    "    return x\n",
    "\n",
    "\n",
    "def rand_contrast(x):\n",
    "    x_mean = x.mean(dim=[1, 2, 3], keepdim=True)\n",
    "    x = (x - x_mean) * (torch.rand(x.size(0), 1, 1, 1, dtype=x.dtype, device=x.device) + 0.5) + x_mean\n",
    "    return x\n",
    "\n",
    "\n",
    "def rand_translation(x, ratio=0.2):\n",
    "    shift_x, shift_y = int(x.size(2) * ratio + 0.5), int(x.size(3) * ratio + 0.5)\n",
    "    translation_x = torch.randint(-shift_x, shift_x + 1, size=[x.size(0), 1, 1], device=x.device)\n",
    "    translation_y = torch.randint(-shift_y, shift_y + 1, size=[x.size(0), 1, 1], device=x.device)\n",
    "    grid_batch, grid_x, grid_y = torch.meshgrid(\n",
    "        torch.arange(x.size(0), dtype=torch.long, device=x.device),\n",
    "        torch.arange(x.size(2), dtype=torch.long, device=x.device),\n",
    "        torch.arange(x.size(3), dtype=torch.long, device=x.device),\n",
    "    )\n",
    "    grid_x = torch.clamp(grid_x + translation_x + 1, 0, x.size(2) + 1)\n",
    "    grid_y = torch.clamp(grid_y + translation_y + 1, 0, x.size(3) + 1)\n",
    "    x_pad = F.pad(x, [1, 1, 1, 1, 0, 0, 0, 0])\n",
    "    x = x_pad.permute(0, 2, 3, 1).contiguous()[grid_batch, grid_x, grid_y].permute(0, 3, 1, 2)\n",
    "    return x\n",
    "\n",
    "\n",
    "def rand_cutout(x, ratio=0.5):\n",
    "    if random.random() < 0.3:\n",
    "        cutout_size = int(x.size(2) * ratio + 0.5), int(x.size(3) * ratio + 0.5)\n",
    "        offset_x = torch.randint(0, x.size(2) + (1 - cutout_size[0] % 2), size=[x.size(0), 1, 1], device=x.device)\n",
    "        offset_y = torch.randint(0, x.size(3) + (1 - cutout_size[1] % 2), size=[x.size(0), 1, 1], device=x.device)\n",
    "        grid_batch, grid_x, grid_y = torch.meshgrid(\n",
    "            torch.arange(x.size(0), dtype=torch.long, device=x.device),\n",
    "            torch.arange(cutout_size[0], dtype=torch.long, device=x.device),\n",
    "            torch.arange(cutout_size[1], dtype=torch.long, device=x.device),\n",
    "        )\n",
    "        grid_x = torch.clamp(grid_x + offset_x - cutout_size[0] // 2, min=0, max=x.size(2) - 1)\n",
    "        grid_y = torch.clamp(grid_y + offset_y - cutout_size[1] // 2, min=0, max=x.size(3) - 1)\n",
    "        mask = torch.ones(x.size(0), x.size(2), x.size(3), dtype=x.dtype, device=x.device)\n",
    "        mask[grid_batch, grid_x, grid_y] = 0\n",
    "        x = x * mask.unsqueeze(1)\n",
    "    return x\n",
    "\n",
    "def rand_rotate(x, ratio=0.5):\n",
    "    k = random.randint(1,3)\n",
    "    if random.random() < ratio:\n",
    "        x = torch.rot90(x, k, [2,3])\n",
    "    return x\n",
    "\n",
    "AUGMENT_FNS = {\n",
    "    'color': [rand_brightness, rand_saturation, rand_contrast],\n",
    "    'translation': [rand_translation],\n",
    "    'cutout': [rand_cutout],\n",
    "    'rotate': [rand_rotate],\n",
    "}"
   ]
  },
  {
   "cell_type": "code",
   "execution_count": 6,
   "metadata": {
    "execution": {
     "iopub.execute_input": "2024-04-17T12:09:23.888946Z",
     "iopub.status.busy": "2024-04-17T12:09:23.888224Z",
     "iopub.status.idle": "2024-04-17T12:09:23.930338Z",
     "shell.execute_reply": "2024-04-17T12:09:23.929337Z",
     "shell.execute_reply.started": "2024-04-17T12:09:23.888912Z"
    }
   },
   "outputs": [],
   "source": [
    "import torch\n",
    "import torch.nn as nn\n",
    "\n",
    "class MLP(nn.Module):\n",
    "    def __init__(self, in_feat, hid_feat=None, out_feat=None,\n",
    "                 dropout=0.):\n",
    "        super().__init__()\n",
    "        if not hid_feat:\n",
    "            hid_feat = in_feat\n",
    "        if not out_feat:\n",
    "            out_feat = in_feat\n",
    "        self.fc1 = nn.Linear(in_feat, hid_feat)\n",
    "        self.act = nn.GELU()\n",
    "        self.fc2 = nn.Linear(hid_feat, out_feat)\n",
    "        self.droprateout = nn.Dropout(dropout)\n",
    "\n",
    "    def forward(self, x):\n",
    "        x = self.fc1(x)\n",
    "        x = self.act(x)\n",
    "        x = self.fc2(x)\n",
    "        return self.droprateout(x)\n",
    "\n",
    "\n",
    "class Attention(nn.Module):\n",
    "    def __init__(self, dim, heads=4, attention_dropout=0., proj_dropout=0.):\n",
    "        super().__init__()\n",
    "        self.heads = heads\n",
    "        self.scale = 1./dim**0.5\n",
    "\n",
    "        self.qkv = nn.Linear(dim, dim*3, bias=False)\n",
    "        self.attention_dropout = nn.Dropout(attention_dropout)\n",
    "        self.out = nn.Sequential(\n",
    "            nn.Linear(dim, dim),\n",
    "            nn.Dropout(proj_dropout)\n",
    "        )\n",
    "\n",
    "    def forward(self, x):\n",
    "        b, n, c = x.shape\n",
    "        qkv = self.qkv(x).reshape(b, n, 3, self.heads, c//self.heads)\n",
    "        q, k, v = qkv.permute(2, 0, 3, 1, 4)\n",
    "\n",
    "        dot = (q @ k.transpose(-2, -1)) * self.scale\n",
    "        attn = dot.softmax(dim=-1)\n",
    "        attn = self.attention_dropout(attn)\n",
    "\n",
    "        x = (attn @ v).transpose(1, 2).reshape(b, n, c)\n",
    "        x = self.out(x)\n",
    "        return x\n",
    "\n",
    "class ImgPatches(nn.Module):\n",
    "    def __init__(self, input_channel=3, dim=768, patch_size=4):\n",
    "        super().__init__()\n",
    "        self.patch_embed = nn.Conv2d(input_channel, dim,\n",
    "                                     kernel_size=patch_size, stride=patch_size)\n",
    "\n",
    "    def forward(self, img):\n",
    "        patches = self.patch_embed(img).flatten(2).transpose(1, 2)\n",
    "        return patches\n",
    "\n",
    "def UpSampling(x, H, W):\n",
    "        B, N, C = x.size()\n",
    "        assert N == H*W\n",
    "        x = x.permute(0, 2, 1)\n",
    "        x = x.view(-1, C, H, W)\n",
    "        x = nn.PixelShuffle(2)(x)\n",
    "        B, C, H, W = x.size()\n",
    "        x = x.view(-1, C, H*W)\n",
    "        x = x.permute(0,2,1)\n",
    "        return x, H, W\n",
    "\n",
    "class Encoder_Block(nn.Module):\n",
    "    def __init__(self, dim, heads, mlp_ratio=4, drop_rate=0.):\n",
    "        super().__init__()\n",
    "        self.ln1 = nn.LayerNorm(dim)\n",
    "        self.attn = Attention(dim, heads, drop_rate, drop_rate)\n",
    "        self.ln2 = nn.LayerNorm(dim)\n",
    "        self.mlp = MLP(dim, dim*mlp_ratio, dropout=drop_rate)\n",
    "\n",
    "    def forward(self, x):\n",
    "        x1 = self.ln1(x)\n",
    "        x = x + self.attn(x1)\n",
    "        x2 = self.ln2(x)\n",
    "        x = x + self.mlp(x2)\n",
    "        return x\n",
    "\n",
    "\n",
    "class TransformerEncoder(nn.Module):\n",
    "    def __init__(self, depth, dim, heads, mlp_ratio=4, drop_rate=0.):\n",
    "        super().__init__()\n",
    "        self.Encoder_Blocks = nn.ModuleList([\n",
    "            Encoder_Block(dim, heads, mlp_ratio, drop_rate)\n",
    "            for i in range(depth)])\n",
    "\n",
    "    def forward(self, x):\n",
    "        for Encoder_Block in self.Encoder_Blocks:\n",
    "            x = Encoder_Block(x)\n",
    "        return x\n",
    "\n",
    "class Generator(nn.Module):\n",
    "    \"\"\"docstring for Generator\"\"\"\n",
    "    def __init__(self, depth1=5, depth2=4, depth3=2, initial_size=8, dim=384, heads=4, mlp_ratio=4, drop_rate=0.):#,device=device):\n",
    "        super(Generator, self).__init__()\n",
    "\n",
    "        #self.device = device\n",
    "        self.initial_size = initial_size\n",
    "        self.dim = dim\n",
    "        self.depth1 = depth1\n",
    "        self.depth2 = depth2\n",
    "        self.depth3 = depth3\n",
    "        self.heads = heads\n",
    "        self.mlp_ratio = mlp_ratio\n",
    "        self.droprate_rate =drop_rate\n",
    "\n",
    "        self.mlp = nn.Linear(1024, (self.initial_size ** 2) * self.dim)\n",
    "\n",
    "        self.positional_embedding_1 = nn.Parameter(torch.zeros(1, (8**2), 384))\n",
    "        self.positional_embedding_2 = nn.Parameter(torch.zeros(1, (8*2)**2, 384//4))\n",
    "        self.positional_embedding_3 = nn.Parameter(torch.zeros(1, (8*4)**2, 384//16))\n",
    "\n",
    "        self.TransformerEncoder_encoder1 = TransformerEncoder(depth=self.depth1, dim=self.dim,heads=self.heads, mlp_ratio=self.mlp_ratio, drop_rate=self.droprate_rate)\n",
    "        self.TransformerEncoder_encoder2 = TransformerEncoder(depth=self.depth2, dim=self.dim//4, heads=self.heads, mlp_ratio=self.mlp_ratio, drop_rate=self.droprate_rate)\n",
    "        self.TransformerEncoder_encoder3 = TransformerEncoder(depth=self.depth3, dim=self.dim//16, heads=self.heads, mlp_ratio=self.mlp_ratio, drop_rate=self.droprate_rate)\n",
    "\n",
    "\n",
    "        self.linear = nn.Sequential(nn.Conv2d(self.dim//16, 3, 1, 1, 0))\n",
    "\n",
    "    def forward(self, noise):\n",
    "\n",
    "        x = self.mlp(noise).view(-1, self.initial_size ** 2, self.dim)\n",
    "\n",
    "        x = x + self.positional_embedding_1\n",
    "        H, W = self.initial_size, self.initial_size\n",
    "        x = self.TransformerEncoder_encoder1(x)\n",
    "\n",
    "        x,H,W = UpSampling(x,H,W) \n",
    "        x = x + self.positional_embedding_2\n",
    "        x = self.TransformerEncoder_encoder2(x)\n",
    "\n",
    "        x,H,W = UpSampling(x,H,W)\n",
    "        x = x + self.positional_embedding_3\n",
    "\n",
    "        x = self.TransformerEncoder_encoder3(x)\n",
    "        x = self.linear(x.permute(0, 2, 1).view(-1, self.dim//16, H, W))\n",
    "\n",
    "        return x\n",
    "\n",
    "class Discriminator(nn.Module):\n",
    "    def __init__(self, diff_aug, image_size=32, patch_size=4, input_channel=3, num_classes=1,\n",
    "                 dim=384, depth=7, heads=4, mlp_ratio=4,\n",
    "                 drop_rate=0.):\n",
    "        super().__init__()\n",
    "        if image_size % patch_size != 0:\n",
    "            raise ValueError('Image size must be divisible by patch size.')\n",
    "        num_patches = (image_size//patch_size) ** 2\n",
    "        self.diff_aug = diff_aug\n",
    "        self.patch_size = patch_size\n",
    "        self.depth = depth\n",
    "        # Image patches and embedding layer\n",
    "        self.patches = ImgPatches(input_channel, dim, self.patch_size)\n",
    "\n",
    "        # Embedding for patch position and class\n",
    "        self.positional_embedding = nn.Parameter(torch.zeros(1, num_patches+1, dim))\n",
    "        self.class_embedding = nn.Parameter(torch.zeros(1, 1, dim))\n",
    "        nn.init.trunc_normal_(self.positional_embedding, std=0.2)\n",
    "        nn.init.trunc_normal_(self.class_embedding, std=0.2)\n",
    "\n",
    "        self.droprate = nn.Dropout(p=drop_rate)\n",
    "        self.TransfomerEncoder = TransformerEncoder(depth, dim, heads,\n",
    "                                      mlp_ratio, drop_rate)\n",
    "        self.norm = nn.LayerNorm(dim)\n",
    "        self.out = nn.Linear(dim, num_classes)\n",
    "        self.apply(self._init_weights)\n",
    "\n",
    "    def _init_weights(self, m):\n",
    "        if isinstance(m, nn.Linear):\n",
    "            nn.init.trunc_normal_(m.weight, std=.02)\n",
    "            if isinstance(m, nn.Linear) and m.bias is not None:\n",
    "                nn.init.constant_(m.bias, 0)\n",
    "        elif isinstance(m, nn.LayerNorm):\n",
    "            nn.init.constant_(m.bias, 0)\n",
    "            nn.init.constant_(m.weight, 1.0)\n",
    "\n",
    "    def forward(self, x):\n",
    "        x = DiffAugment(x, self.diff_aug)\n",
    "        b = x.shape[0]\n",
    "        cls_token = self.class_embedding.expand(b, -1, -1)\n",
    "\n",
    "        x = self.patches(x)\n",
    "        x = torch.cat((cls_token, x), dim=1)\n",
    "        x += self.positional_embedding\n",
    "        x = self.droprate(x)\n",
    "        x = self.TransfomerEncoder(x)\n",
    "        x = self.norm(x)\n",
    "        x = self.out(x[:, 0])\n",
    "        return x"
   ]
  },
  {
   "cell_type": "code",
   "execution_count": 7,
   "metadata": {
    "execution": {
     "iopub.execute_input": "2024-04-17T12:09:23.932270Z",
     "iopub.status.busy": "2024-04-17T12:09:23.931341Z",
     "iopub.status.idle": "2024-04-17T12:09:27.115559Z",
     "shell.execute_reply": "2024-04-17T12:09:27.114678Z",
     "shell.execute_reply.started": "2024-04-17T12:09:23.932238Z"
    }
   },
   "outputs": [],
   "source": [
    "import torch\n",
    "import torch.nn as nn\n",
    "import torch.nn.functional as F\n",
    "import torch.optim as optim\n",
    "import torchvision\n",
    "import torchvision.transforms as transforms\n",
    "import time\n",
    "\n",
    "import os\n",
    "\n",
    "import numpy as np\n",
    "\n",
    "\n",
    "def noise(n_samples, z_dim, device):\n",
    "        return torch.randn(n_samples,z_dim).to(device)\n",
    "    \n",
    "class LinearLrDecay(object):\n",
    "    def __init__(self, optimizer, start_lr, end_lr, decay_start_step, decay_end_step):\n",
    "\n",
    "        assert start_lr > end_lr\n",
    "        self.optimizer = optimizer\n",
    "        self.delta = (start_lr - end_lr) / (decay_end_step - decay_start_step)\n",
    "        self.decay_start_step = decay_start_step\n",
    "        self.decay_end_step = decay_end_step\n",
    "        self.start_lr = start_lr\n",
    "        self.end_lr = end_lr\n",
    "\n",
    "    def step(self, current_step):\n",
    "        if current_step <= self.decay_start_step:\n",
    "            lr = self.start_lr\n",
    "        elif current_step >= self.decay_end_step:\n",
    "            lr = self.end_lr\n",
    "        else:\n",
    "            lr = self.start_lr - self.delta * (current_step - self.decay_start_step)\n",
    "            for param_group in self.optimizer.param_groups:\n",
    "                param_group['lr'] = lr\n",
    "        return lr\n",
    "\n",
    "def inits_weight(m):\n",
    "        if type(m) == nn.Linear:\n",
    "                nn.init.xavier_uniform(m.weight.data, 1.)\n",
    "\n",
    "\n",
    "def noise(imgs, latent_dim):\n",
    "        return torch.FloatTensor(np.random.normal(0, 1, (imgs.shape[0], latent_dim)))\n",
    "\n",
    "def gener_noise(gener_batch_size, latent_dim):\n",
    "        return torch.FloatTensor(np.random.normal(0, 1, (gener_batch_size, latent_dim)))\n",
    "\n",
    "def save_checkpoint(states,is_best, output_dir,\n",
    "                    filename='checkpoint.pth'):\n",
    "    torch.save(states, os.path.join(output_dir, filename))\n",
    "    if is_best:\n",
    "        torch.save(states, os.path.join(output_dir, 'checkpoint_best.pth'))"
   ]
  },
  {
   "cell_type": "code",
   "execution_count": 8,
   "metadata": {
    "execution": {
     "iopub.execute_input": "2024-04-17T12:09:27.117127Z",
     "iopub.status.busy": "2024-04-17T12:09:27.116727Z",
     "iopub.status.idle": "2024-04-17T12:09:31.077893Z",
     "shell.execute_reply": "2024-04-17T12:09:31.076798Z",
     "shell.execute_reply.started": "2024-04-17T12:09:27.117101Z"
    }
   },
   "outputs": [
    {
     "name": "stdout",
     "output_type": "stream",
     "text": [
      "Lightning version: 2.2.0.post0\n",
      "PyTorch version: 2.1.2\n",
      "Python version: 3.10.13\n"
     ]
    }
   ],
   "source": [
    "import os\n",
    "import torch\n",
    "import torch.nn as nn\n",
    "import pytorch_lightning as pl\n",
    "import torchvision.transforms as T\n",
    "from torchvision.datasets import CIFAR10\n",
    "import torchvision\n",
    "from torchvision.utils import save_image\n",
    "from pytorch_lightning.callbacks.early_stopping import EarlyStopping\n",
    "from pytorch_lightning.callbacks.progress import TQDMProgressBar\n",
    "from pytorch_lightning.loggers import TensorBoardLogger\n",
    "from pytorch_lightning.callbacks import ModelCheckpoint\n",
    "import torch.nn.functional as F\n",
    "from sklearn.metrics import roc_auc_score\n",
    "import matplotlib.pyplot as plt\n",
    "import numpy as np\n",
    "from sklearn.cluster import KMeans\n",
    "import platform\n",
    "import random\n",
    "\n",
    "print(\"Lightning version:\", pl.__version__)\n",
    "print(\"PyTorch version:\", torch.__version__)\n",
    "print(\"Python version:\", platform.python_version())\n"
   ]
  },
  {
   "cell_type": "code",
   "execution_count": 9,
   "metadata": {
    "execution": {
     "iopub.execute_input": "2024-04-17T12:09:31.079533Z",
     "iopub.status.busy": "2024-04-17T12:09:31.079027Z",
     "iopub.status.idle": "2024-04-17T12:09:31.089776Z",
     "shell.execute_reply": "2024-04-17T12:09:31.088914Z",
     "shell.execute_reply.started": "2024-04-17T12:09:31.079505Z"
    }
   },
   "outputs": [
    {
     "data": {
      "text/plain": [
       "42"
      ]
     },
     "execution_count": 9,
     "metadata": {},
     "output_type": "execute_result"
    }
   ],
   "source": [
    "pl.seed_everything(42)"
   ]
  },
  {
   "cell_type": "code",
   "execution_count": 10,
   "metadata": {
    "execution": {
     "iopub.execute_input": "2024-04-17T12:09:31.093605Z",
     "iopub.status.busy": "2024-04-17T12:09:31.093308Z",
     "iopub.status.idle": "2024-04-17T12:09:31.125272Z",
     "shell.execute_reply": "2024-04-17T12:09:31.124298Z",
     "shell.execute_reply.started": "2024-04-17T12:09:31.093583Z"
    }
   },
   "outputs": [],
   "source": [
    "# Randomly rotate the images by 90, 180, or 270 degrees\n",
    "class Rotation3:\n",
    "    def __call__(self, img):\n",
    "        angle = random.choice([0, 90, 180, 270])\n",
    "        img = T.functional.rotate(img, angle)\n",
    "        return img\n",
    "\n",
    "# DataModule\n",
    "class AnomalyDetectionDataModule(pl.LightningDataModule):\n",
    "    def __init__(self, batch_size, subsampling, subsamples, model, normal_class, data_dir=\"./\"):\n",
    "        super().__init__()\n",
    "\n",
    "        self.model = model\n",
    "        self.normal_class = normal_class\n",
    "        self.subsampling = subsampling\n",
    "        self.subsamples = subsamples\n",
    "\n",
    "        self.train_transform = T.Compose([\n",
    "            T.Resize(32),\n",
    "            T.RandomVerticalFlip(),\n",
    "            T.RandomHorizontalFlip(),\n",
    "            T.RandomCrop(30),\n",
    "            T.Resize(32),\n",
    "            # T.Grayscale(1),  # Use 1 channel (grayscale)\n",
    "            T.RandomApply([Rotation3()], p=1),\n",
    "            T.ToTensor(),\n",
    "            T.Normalize((0.5, 0.5, 0.5), (0.5, 0.5, 0.5))\n",
    "        ])\n",
    "        self.test_transform = T.Compose([\n",
    "            T.Resize(32),\n",
    "            # T.Grayscale(1),  # Use 1 channel (grayscale)\n",
    "            T.ToTensor(),\n",
    "            T.Normalize((0.5, 0.5, 0.5), (0.5, 0.5, 0.5))\n",
    "        ])\n",
    "\n",
    "        self.data_dir = data_dir\n",
    "        self.dataset_classes = 10\n",
    "        self.num_classes = 2  # Normal and Anomaly\n",
    "        self.batch_size = batch_size\n",
    "        self.num_clusters = self.dataset_classes - 1\n",
    "        self.subsamples = subsamples\n",
    "        self.subsampling = subsampling\n",
    "\n",
    "    # K-means based sampling of anomal classes\n",
    "    def kmeans_sampling(self, dataset, normal_class, num_samples):\n",
    "\n",
    "        # Get indices not belonging to the normal class and stack them\n",
    "        indices = [i for i in range(len(dataset)) if dataset.targets[i] != normal_class]\n",
    "        class_data = torch.stack([dataset[i][0] for i in indices])\n",
    "\n",
    "        # Perform K-means clustering\n",
    "        kmeans = KMeans(n_clusters=self.num_clusters, random_state=0, n_init=9)\n",
    "        kmeans.fit(class_data.view(class_data.size(0), -1).numpy())\n",
    "        cluster_assignments = kmeans.predict(class_data.view(class_data.size(0), -1).numpy())\n",
    "\n",
    "        # Iterate over each cluster and sample from them the required number of classes\n",
    "        sampled_indices = []\n",
    "        for cluster_idx in range(self.num_clusters):\n",
    "            cluster_indices = np.where(cluster_assignments == cluster_idx)[0]\n",
    "            num_samples_from_cluster = num_samples//self.num_clusters\n",
    "            sampled_indices.extend(np.random.choice(cluster_indices, num_samples_from_cluster, replace=False))\n",
    "\n",
    "        return [indices[idx] for idx in sampled_indices]\n",
    "\n",
    "\n",
    "    def prepare_data(self):\n",
    "        CIFAR10(root=self.data_dir, train=True, download=True)\n",
    "\n",
    "\n",
    "    def setup(self, stage=None):\n",
    "\n",
    "        if stage == 'fit' or stage is None: # Setup dataset for training phase\n",
    "\n",
    "            if self.model == 'GAN' or self.model == 'RG':\n",
    "                all_data = []\n",
    "                all_labels = []\n",
    "                normal_data  = []\n",
    "                anomal_data = []\n",
    "                normal_class = self.normal_class\n",
    "\n",
    "                # Load dataset\n",
    "                train_dataset = CIFAR10(root=self.data_dir, train=True, transform=self.train_transform)\n",
    "\n",
    "                # Use 1 class as 'normal' and the others as 'anomal'\n",
    "                normal_indices = [i for i in range(len(train_dataset)) if train_dataset.targets[i] == normal_class]\n",
    "                anomal_indices = self.kmeans_sampling(train_dataset, normal_class, num_samples=len(normal_indices))\n",
    "\n",
    "                # Use only a subset of dataset\n",
    "                if self.subsampling == True:\n",
    "                    normal_indices = normal_indices[:self.subsamples]\n",
    "                    anomal_indices = anomal_indices[:self.subsamples]\n",
    "\n",
    "                normal_labels = torch.ones(len(normal_indices), dtype=torch.float32)\n",
    "                anomal_labels = torch.zeros(len(anomal_indices), dtype=torch.float32)\n",
    "\n",
    "                normal_data.extend([train_dataset[i][0] for i in normal_indices])\n",
    "                anomal_data.extend([train_dataset[i][0] for i in anomal_indices])\n",
    "\n",
    "                all_data.extend(normal_data)\n",
    "                all_data.extend(anomal_data)\n",
    "                all_labels.extend(normal_labels)\n",
    "                all_labels.extend(anomal_labels)\n",
    "\n",
    "                all_data = torch.stack(all_data)\n",
    "                all_labels = torch.tensor(all_labels)\n",
    "\n",
    "                # Build the new dataset following requirements\n",
    "                self.train_dataset = torch.utils.data.TensorDataset(all_data, all_labels)\n",
    "\n",
    "            else:\n",
    "                all_data = []\n",
    "                all_labels = []\n",
    "                normal_data  = []\n",
    "                normal_class = self.normal_class\n",
    "\n",
    "                # Load dataset\n",
    "                train_dataset = CIFAR10(root=self.data_dir, train=True, transform=self.train_transform)\n",
    "\n",
    "                # Use only one class\n",
    "                normal_indices = [i for i in range(len(train_dataset)) if train_dataset.targets[i] == normal_class]\n",
    "\n",
    "                # Use only a subset of dataset\n",
    "                if self.subsampling == True:\n",
    "                    normal_indices = normal_indices[:self.subsamples]\n",
    "\n",
    "                normal_labels = torch.ones(len(normal_indices), dtype=torch.float32)\n",
    "\n",
    "                normal_data.extend([train_dataset[i][0] for i in normal_indices])\n",
    "\n",
    "                all_data.extend(normal_data)\n",
    "                all_labels.extend(normal_labels)\n",
    "\n",
    "                all_data = torch.stack(all_data)\n",
    "                all_labels = torch.tensor(all_labels)\n",
    "\n",
    "                # Build the new dataset following requirements\n",
    "                self.train_dataset = torch.utils.data.TensorDataset(all_data, all_labels)\n",
    "\n",
    "\n",
    "        if stage == 'test' or stage is None: # Setup dataset for training phase\n",
    "\n",
    "            all_data = []\n",
    "            all_labels = []\n",
    "            normal_data  = []\n",
    "            anomal_data = []\n",
    "            normal_class = self.normal_class\n",
    "\n",
    "            # Load test dataset\n",
    "            test_dataset = CIFAR10(root=self.data_dir, train=False, transform=self.test_transform)\n",
    "\n",
    "            normal_indices = [i for i in range(len(test_dataset)) if test_dataset.targets[i] == normal_class]\n",
    "            anomal_indices = self.kmeans_sampling(test_dataset, normal_class, num_samples=len(normal_indices))\n",
    "\n",
    "            if self.subsampling == True:\n",
    "                normal_indices = normal_indices[:self.subsamples]\n",
    "                anomal_indices = anomal_indices[:self.subsamples]\n",
    "\n",
    "            normal_labels = torch.ones(len(normal_indices), dtype=torch.float32)\n",
    "            anomal_labels = torch.zeros(len(anomal_indices), dtype=torch.float32)\n",
    "\n",
    "            normal_data.extend([test_dataset[i][0] for i in normal_indices])\n",
    "            anomal_data.extend([test_dataset[i][0] for i in anomal_indices])\n",
    "\n",
    "            all_data.extend(normal_data)\n",
    "            all_data.extend(anomal_data)\n",
    "            all_labels.extend(normal_labels)\n",
    "            all_labels.extend(anomal_labels)\n",
    "\n",
    "            all_data = torch.stack(all_data)\n",
    "            all_labels = torch.tensor(all_labels)\n",
    "\n",
    "            # Build the new dataset\n",
    "            self.test_dataset = torch.utils.data.TensorDataset(all_data, all_labels)\n",
    "\n",
    "    def train_dataloader(self):\n",
    "        return torch.utils.data.DataLoader(self.train_dataset, batch_size=self.batch_size, shuffle=True)\n",
    "\n",
    "    def test_dataloader(self):\n",
    "        return torch.utils.data.DataLoader(self.test_dataset, batch_size=self.batch_size, shuffle=False)\n"
   ]
  },
  {
   "cell_type": "code",
   "execution_count": 11,
   "metadata": {
    "execution": {
     "iopub.execute_input": "2024-04-17T12:09:31.126656Z",
     "iopub.status.busy": "2024-04-17T12:09:31.126390Z",
     "iopub.status.idle": "2024-04-17T12:09:39.665172Z",
     "shell.execute_reply": "2024-04-17T12:09:39.664289Z",
     "shell.execute_reply.started": "2024-04-17T12:09:31.126634Z"
    }
   },
   "outputs": [
    {
     "data": {
      "text/plain": [
       "_StoreAction(option_strings=['--diff_aug'], dest='diff_aug', nargs=None, const=None, default='translation,cutout,color', type=<class 'str'>, choices=None, required=False, help='Data Augmentation', metavar=None)"
      ]
     },
     "execution_count": 11,
     "metadata": {},
     "output_type": "execute_result"
    }
   ],
   "source": [
    "from __future__ import division\n",
    "from __future__ import print_function\n",
    "\n",
    "import time\n",
    "import argparse\n",
    "import numpy as np\n",
    "\n",
    "import torch\n",
    "import torch.nn.functional as F\n",
    "import torch.optim as optim\n",
    "from torchvision.utils import make_grid, save_image\n",
    "\n",
    "from tensorboardX import SummaryWriter\n",
    "from tqdm import tqdm\n",
    "from copy import deepcopy\n",
    "\n",
    "\n",
    "parser = argparse.ArgumentParser()\n",
    "parser.add_argument('--image_size', type=int, default= 32 , help='Size of image for discriminator input.')\n",
    "parser.add_argument('--initial_size', type=int, default=8 , help='Initial size for generator.')\n",
    "parser.add_argument('--patch_size', type=int, default=4 , help='Patch size for generated image.')\n",
    "parser.add_argument('--num_classes', type=int, default=1 , help='Number of classes for discriminator.')\n",
    "parser.add_argument('--lr_gen', type=float, default=0.0001 , help='Learning rate for generator.')\n",
    "parser.add_argument('--lr_dis', type=float, default=0.0001 , help='Learning rate for discriminator.')\n",
    "parser.add_argument('--weight_decay', type=float, default=1e-3 , help='Weight decay.')\n",
    "parser.add_argument('--latent_dim', type=int, default=1024 , help='Latent dimension.')\n",
    "parser.add_argument('--n_critic', type=int, default=5 , help='n_critic.')\n",
    "parser.add_argument('--max_iter', type=int, default=500000 , help='max_iter.')\n",
    "parser.add_argument('--gener_batch_size', type=int, default=64 , help='Batch size for generator.')\n",
    "parser.add_argument('--dis_batch_size', type=int, default=32 , help='Batch size for discriminator.')\n",
    "parser.add_argument('--epoch', type=int, default=200 , help='Number of epoch.')\n",
    "parser.add_argument('--output_dir', type=str, default='checkpoint' , help='Checkpoint.')\n",
    "parser.add_argument('--dim', type=int, default=384 , help='Embedding dimension.')\n",
    "parser.add_argument('--img_name', type=str, default=\"img_name\" , help='Name of pictures file.')\n",
    "parser.add_argument('--optim', type=str, default=\"Adam\" , help='Choose your optimizer')\n",
    "parser.add_argument('--loss', type=str, default=\"wgangp_eps\" , help='Loss function')\n",
    "parser.add_argument('--phi', type=int, default=\"1\" , help='phi')\n",
    "parser.add_argument('--beta1', type=int, default=\"0\" , help='beta1')\n",
    "parser.add_argument('--beta2', type=float, default=\"0.99\" , help='beta2')\n",
    "parser.add_argument('--lr_decay', type=str, default=True , help='lr_decay')\n",
    "parser.add_argument('--diff_aug', type=str, default=\"translation,cutout,color\", help='Data Augmentation')"
   ]
  },
  {
   "cell_type": "code",
   "execution_count": 12,
   "metadata": {
    "execution": {
     "iopub.execute_input": "2024-04-17T12:09:39.666932Z",
     "iopub.status.busy": "2024-04-17T12:09:39.666468Z",
     "iopub.status.idle": "2024-04-17T12:09:39.704717Z",
     "shell.execute_reply": "2024-04-17T12:09:39.703851Z",
     "shell.execute_reply.started": "2024-04-17T12:09:39.666906Z"
    }
   },
   "outputs": [
    {
     "name": "stdout",
     "output_type": "stream",
     "text": [
      "cuda\n"
     ]
    }
   ],
   "source": [
    "device = torch.device('cuda') if torch.cuda.is_available() else torch.device('cpu') #Do we have a GPU?\n",
    "# defaults.device = device\n",
    "print(device)"
   ]
  },
  {
   "cell_type": "code",
   "execution_count": 13,
   "metadata": {
    "execution": {
     "iopub.execute_input": "2024-04-17T12:09:39.705923Z",
     "iopub.status.busy": "2024-04-17T12:09:39.705658Z",
     "iopub.status.idle": "2024-04-17T12:09:40.352961Z",
     "shell.execute_reply": "2024-04-17T12:09:40.351963Z",
     "shell.execute_reply.started": "2024-04-17T12:09:39.705900Z"
    }
   },
   "outputs": [],
   "source": [
    "G = Generator(depth1=5, depth2=4, depth3=2, initial_size=8, dim=384, heads=4, mlp_ratio=4, drop_rate=0.5).to(device)"
   ]
  },
  {
   "cell_type": "code",
   "execution_count": 14,
   "metadata": {
    "execution": {
     "iopub.execute_input": "2024-04-17T12:09:40.354575Z",
     "iopub.status.busy": "2024-04-17T12:09:40.354204Z",
     "iopub.status.idle": "2024-04-17T12:09:43.196966Z",
     "shell.execute_reply": "2024-04-17T12:09:43.196129Z",
     "shell.execute_reply.started": "2024-04-17T12:09:40.354541Z"
    }
   },
   "outputs": [],
   "source": [
    "checkpoint = torch.load('/kaggle/input/transgan-cifar10/pytorch/v1/1/checkpoint (2).pth')"
   ]
  },
  {
   "cell_type": "code",
   "execution_count": 15,
   "metadata": {
    "execution": {
     "iopub.execute_input": "2024-04-17T12:09:43.198382Z",
     "iopub.status.busy": "2024-04-17T12:09:43.198073Z",
     "iopub.status.idle": "2024-04-17T12:09:43.212033Z",
     "shell.execute_reply": "2024-04-17T12:09:43.210908Z",
     "shell.execute_reply.started": "2024-04-17T12:09:43.198334Z"
    }
   },
   "outputs": [
    {
     "data": {
      "text/plain": [
       "<All keys matched successfully>"
      ]
     },
     "execution_count": 15,
     "metadata": {},
     "output_type": "execute_result"
    }
   ],
   "source": [
    "G.load_state_dict(checkpoint['generator_state_dict'])"
   ]
  },
  {
   "cell_type": "code",
   "execution_count": 16,
   "metadata": {
    "execution": {
     "iopub.execute_input": "2024-04-17T12:09:43.213589Z",
     "iopub.status.busy": "2024-04-17T12:09:43.213261Z",
     "iopub.status.idle": "2024-04-17T12:09:44.144777Z",
     "shell.execute_reply": "2024-04-17T12:09:44.143597Z",
     "shell.execute_reply.started": "2024-04-17T12:09:43.213558Z"
    }
   },
   "outputs": [
    {
     "name": "stderr",
     "output_type": "stream",
     "text": [
      "/tmp/ipykernel_34/655357688.py:1: UserWarning: The torch.cuda.*DtypeTensor constructors are no longer recommended. It's best to use methods such as torch.tensor(data, dtype=*, device='cuda') to create tensors. (Triggered internally at /usr/local/src/pytorch/torch/csrc/tensor/python_tensor.cpp:83.)\n",
      "  gener_noise = torch.cuda.FloatTensor(np.random.normal(0, 1, (32, 1024)))\n"
     ]
    }
   ],
   "source": [
    "gener_noise = torch.cuda.FloatTensor(np.random.normal(0, 1, (32, 1024)))\n",
    "generated_imgs= G(gener_noise)\n",
    "sample_imgs = generated_imgs[:25]\n",
    "img_grid = make_grid(sample_imgs, nrow=5, normalize=True, scale_each=True)\n",
    "save_image(sample_imgs, f'generated_img.jpg', nrow=5, normalize=True, scale_each=True)"
   ]
  },
  {
   "cell_type": "code",
   "execution_count": 26,
   "metadata": {
    "execution": {
     "iopub.execute_input": "2024-04-17T12:15:09.888572Z",
     "iopub.status.busy": "2024-04-17T12:15:09.887937Z",
     "iopub.status.idle": "2024-04-17T12:15:10.001044Z",
     "shell.execute_reply": "2024-04-17T12:15:10.000199Z",
     "shell.execute_reply.started": "2024-04-17T12:15:09.888538Z"
    }
   },
   "outputs": [
    {
     "data": {
      "image/png": "[encoded data removed]",
      "text/plain": [
       "<PIL.Image.Image image mode=RGB size=500x500>"
      ]
     },
     "metadata": {},
     "output_type": "display_data"
    }
   ],
   "source": [
    "from IPython import display\n",
    "from PIL import Image\n",
    "import numpy as np\n",
    "from IPython.display import display\n",
    "\n",
    "transform = transforms.ToPILImage()\n",
    "\n",
    "def imshow(img):\n",
    "    img = img / 2 + 0.5  # Unnormalize the image\n",
    "    img_pil = transform(img)\n",
    "    # npimg = np.transpose(npimg, (1, 2, 0))\n",
    "     # Print image shape and data range for debugging\n",
    "    # print(\"Image shape:\", npimg.shape)\n",
    "    # print(\"Min pixel value:\", np.min(npimg))\n",
    "    # print(\"Max pixel value:\", np.max(npimg))\n",
    "    # img_pil = Image.fromarray((npimg * 255).astype(np.uint8))\n",
    "    img = img_pil.resize((500, 500), Image.LANCZOS)\n",
    "    display(img)\n",
    "\n",
    "z = torch.cuda.FloatTensor(np.random.normal(0, 1, (1, 1024)))\n",
    "fake = G(z)\n",
    "# Assuming 'generated_image' contains the generated image tensor of shape (1, 3, 32, 32)\n",
    "imshow(fake.squeeze())"
   ]
  },
  {
   "cell_type": "code",
   "execution_count": 13,
   "metadata": {
    "execution": {
     "iopub.execute_input": "2024-03-04T13:16:22.590586Z",
     "iopub.status.busy": "2024-03-04T13:16:22.590163Z",
     "iopub.status.idle": "2024-03-04T13:16:29.667073Z",
     "shell.execute_reply": "2024-03-04T13:16:29.666033Z",
     "shell.execute_reply.started": "2024-03-04T13:16:22.590559Z"
    }
   },
   "outputs": [
    {
     "name": "stderr",
     "output_type": "stream",
     "text": [
      "/opt/conda/lib/python3.10/site-packages/torchvision/models/_utils.py:208: UserWarning: The parameter 'pretrained' is deprecated since 0.13 and may be removed in the future, please use 'weights' instead.\n",
      "  warnings.warn(\n",
      "/opt/conda/lib/python3.10/site-packages/torchvision/models/_utils.py:223: UserWarning: Arguments other than a weight enum or `None` for 'weights' are deprecated since 0.13 and may be removed in the future. The current behavior is equivalent to passing `weights=ResNet50_Weights.IMAGENET1K_V1`. You can also use `weights=ResNet50_Weights.DEFAULT` to get the most up-to-date weights.\n",
      "  warnings.warn(msg)\n",
      "Downloading: \"https://download.pytorch.org/models/resnet50-0676ba61.pth\" to /root/.cache/torch/hub/checkpoints/resnet50-0676ba61.pth\n",
      "100%|██████████| 97.8M/97.8M [00:00<00:00, 149MB/s] \n"
     ]
    },
    {
     "name": "stdout",
     "output_type": "stream",
     "text": [
      "Downloading https://www.cs.toronto.edu/~kriz/cifar-10-python.tar.gz to ./data/cifar-10-python.tar.gz\n"
     ]
    },
    {
     "name": "stderr",
     "output_type": "stream",
     "text": [
      "100%|██████████| 170498071/170498071 [00:02<00:00, 59018525.15it/s]\n"
     ]
    },
    {
     "name": "stdout",
     "output_type": "stream",
     "text": [
      "Extracting ./data/cifar-10-python.tar.gz to ./data\n"
     ]
    }
   ],
   "source": [
    "import torch\n",
    "import torchvision.transforms as transforms\n",
    "from torchvision.models import resnet50\n",
    "from torch import nn\n",
    "import torch.optim as optim\n",
    "\n",
    "# Define loss function\n",
    "criterion = nn.MSELoss()\n",
    "\n",
    "# Load pre-trained transformer (e.g., ResNet50)\n",
    "feature_extractor = resnet50(pretrained=True)\n",
    "# feature_extractor.eval()\n",
    "# transformer.eval()\n",
    "\n",
    "# Freeze transformer parameters\n",
    "for param in feature_extractor.parameters():\n",
    "    param.requires_grad = True\n",
    "\n",
    "# Define mapping function\n",
    "class ImageToNoiseMapper(nn.Module):\n",
    "    def __init__(self, input_dim, output_dim):\n",
    "        super(ImageToNoiseMapper, self).__init__()\n",
    "        self.linear = nn.Linear(input_dim, output_dim)\n",
    "        self.relu = nn.ReLU()\n",
    "\n",
    "    def forward(self, x):\n",
    "        x = self.linear(x)\n",
    "        x = self.relu(x)\n",
    "        return x\n",
    "\n",
    "# Define optimizer for mapper\n",
    "optimizer = optim.Adam(feature_extractor.parameters(), lr=0.001)\n",
    "\n",
    "# Define transformations for CIFAR-10 images\n",
    "transform = transforms.Compose([\n",
    "    transforms.Resize(size=(32, 32)),\n",
    "    transforms.RandomHorizontalFlip(),\n",
    "    transforms.ToTensor(),\n",
    "    transforms.Normalize((0.5, 0.5, 0.5), (0.5, 0.5, 0.5))\n",
    "])\n",
    "\n",
    "# Define CIFAR-10 train dataset and data loader\n",
    "trainset = torchvision.datasets.CIFAR10(root='./data', train=True, download=True, transform=transform)\n",
    "trainloader = torch.utils.data.DataLoader(trainset, batch_size=100, shuffle=True)\n",
    "losses = []\n",
    "# Define device (CPU or GPU)\n",
    "device = torch.device(\"cuda\" if torch.cuda.is_available() else \"cpu\")\n",
    "num_epochs = 3\n",
    "# Training loop\n",
    "# Training loop\n",
    "b = len(trainloader)\n",
    "for epoch in range(num_epochs):\n",
    "    j = 0\n",
    "    for input_image, _ in trainloader:\n",
    "        j += 1\n",
    "        # Move input image to device\n",
    "        input_image = input_image\n",
    "        # Forward pass through feature extractor\n",
    "        features = feature_extractor(input_image)\n",
    "        \n",
    "        # Flatten or reshape features\n",
    "        # Flatten or reshape features\n",
    "        batch_size, features_dim = features.shape[:2]  # Extract batch size and features dimension\n",
    "        flattened_features = features.view(batch_size, -1)\n",
    "        # Forward pass through generator\n",
    "        output_dim = 1024  # Assuming noise vector size\n",
    "        mapper = ImageToNoiseMapper(features_dim, output_dim)\n",
    "        noise_vector = mapper(flattened_features)\n",
    "        generated_image = G(noise_vector.to(device))\n",
    "\n",
    "        # Compute loss between generated image and input image\n",
    "        loss = criterion(generated_image.to('cpu'), input_image.to('cpu'))\n",
    "\n",
    "        # Backpropagation\n",
    "        optimizer.zero_grad()\n",
    "        loss.backward()\n",
    "        optimizer.step()\n",
    "        losses.append(loss.item())\n",
    "        # Print loss\n",
    "        print(f\"Epoch [{epoch+1}/{num_epochs}],Batch {j}/{b} Loss: {loss.item()}\")\n",
    "#         wandb.log({'EpochFeat': epoch+1,'Batch': j,'FeatureLoss':loss.item()})\n",
    "\n"
   ]
  },
  {
   "cell_type": "code",
   "execution_count": 15,
   "metadata": {
    "execution": {
     "iopub.execute_input": "2024-03-04T13:16:29.990009Z",
     "iopub.status.busy": "2024-03-04T13:16:29.989596Z",
     "iopub.status.idle": "2024-03-04T13:16:29.999215Z",
     "shell.execute_reply": "2024-03-04T13:16:29.998121Z",
     "shell.execute_reply.started": "2024-03-04T13:16:29.989972Z"
    }
   },
   "outputs": [],
   "source": [
    "class ENCODER(pl.LightningModule):\n",
    "    def __init__(self):\n",
    "        super().__init__()\n",
    "\n",
    "        self.conv1 = nn.Conv2d(in_channels=3, out_channels=64, kernel_size=4, stride=2, padding=1)  #out 16x16\n",
    "        self.conv2 = nn.Conv2d(in_channels=64, out_channels=128, kernel_size=4, stride=2, padding=1) #out 8x8\n",
    "        self.conv3 = nn.Conv2d(in_channels=128, out_channels=256, kernel_size=4, stride=2, padding=1) #out 4x4\n",
    "        self.conv4 = nn.Conv2d(in_channels=256, out_channels=512, kernel_size=4, stride=2, padding=1) #out 2x2\n",
    "\n",
    "    def forward(self, x):\n",
    "        x = F.relu(self.conv1(x))\n",
    "        x = F.relu(self.conv2(x))\n",
    "        x = F.relu(self.conv3(x))\n",
    "        x = F.relu(self.conv4(x))\n",
    "        return x"
   ]
  },
  {
   "cell_type": "code",
   "execution_count": 30,
   "metadata": {
    "execution": {
     "iopub.execute_input": "2024-03-04T13:42:27.856422Z",
     "iopub.status.busy": "2024-03-04T13:42:27.856000Z",
     "iopub.status.idle": "2024-03-04T13:42:27.864843Z",
     "shell.execute_reply": "2024-03-04T13:42:27.863933Z",
     "shell.execute_reply.started": "2024-03-04T13:42:27.856391Z"
    }
   },
   "outputs": [],
   "source": [
    "def ImgNoise(input_image):\n",
    "    feature_extractor.eval()\n",
    "    # Freeze transformer parameters\n",
    "    # Freeze transformer parameters\n",
    "    for param in feature_extractor.parameters():\n",
    "        param.requires_grad = False\n",
    "    input_image = input_image.to('cpu')\n",
    "    features = feature_extractor(input_image)\n",
    "    \n",
    "    batch_size, features_dim = features.shape[:2]  # Extract batch size and features dimension\n",
    "    flattened_features = features.view(batch_size, -1)\n",
    "    # Forward pass through generator\n",
    "    output_dim = 1024  # Assuming noise vector size\n",
    "    mapper = ImageToNoiseMapper(features_dim, output_dim)\n",
    "    noise_vector = mapper(flattened_features).to(\"cuda\")\n",
    "    \n",
    "    return noise_vector"
   ]
  },
  {
   "cell_type": "code",
   "execution_count": 37,
   "metadata": {
    "execution": {
     "iopub.execute_input": "2024-03-04T13:53:56.094574Z",
     "iopub.status.busy": "2024-03-04T13:53:56.094170Z",
     "iopub.status.idle": "2024-03-04T13:53:56.142863Z",
     "shell.execute_reply": "2024-03-04T13:53:56.141943Z",
     "shell.execute_reply.started": "2024-03-04T13:53:56.094545Z"
    }
   },
   "outputs": [],
   "source": [
    "class GAN_SOTA(pl.LightningModule):\n",
    "    def __init__(self, lr=0.0002, display=False, display_end=False, b1=0.5, b2=0.999):\n",
    "        super().__init__()\n",
    "        self.lr = lr\n",
    "        self.display = display\n",
    "        self.display_end = display_end\n",
    "\n",
    "        self.save_hyperparameters()\n",
    "        self.G = G\n",
    "        self.Enc = ENCODER()\n",
    "        self.D_norm = Discriminator(diff_aug = \"translation,cutout,color\", image_size=32, patch_size=4, input_channel=3, num_classes=1,\n",
    "                 dim=384, depth=7, heads=4, mlp_ratio=4,\n",
    "                 drop_rate=0.)\n",
    "        self.D_anom = Discriminator(diff_aug = \"translation,cutout,color\", image_size=32, patch_size=4, input_channel=3, num_classes=1,\n",
    "                 dim=384, depth=7, heads=4, mlp_ratio=4,\n",
    "                 drop_rate=0.)\n",
    "        self.D_anom.load_state_dict(checkpoint['discriminator_state_dict'])\n",
    "        self.D_norm.load_state_dict(checkpoint['discriminator_state_dict'])\n",
    "        self.G.load_state_dict(checkpoint['generator_state_dict'])\n",
    "        self.automatic_optimization = False\n",
    "        self.test_step_outputs = [[], []]  # two dataloaders\n",
    "        self.auroc = 0\n",
    "        self.last_batch = None\n",
    "#         wandb.watch(self.G)\n",
    "#         wandb.watch(self.D_norm)\n",
    "#         wandb.watch(self.D_anom)\n",
    "        \n",
    "    def forward(self, x):\n",
    "        return self.G(ImgNoise(x))\n",
    "\n",
    "    def print_generator_parameters(self):\n",
    "        for name, param in self.G.named_parameters():\n",
    "            print(f\"Generator Parameter Name: {name}\")\n",
    "            print(f\"Parameter Value:\\n{param}\")\n",
    "\n",
    "    def patch_loss(self, X, generated_X, n=3):\n",
    "\n",
    "        # Calculate the L1 loss for each patch\n",
    "        patch_errors = torch.abs(X - generated_X)\n",
    "        patch_errors_reshaped = patch_errors.view(patch_errors.size(0), patch_errors.size(1), -1)\n",
    "\n",
    "        # compute loss for each patch\n",
    "        mean_patch_errors = patch_errors_reshaped.mean(dim=-1)\n",
    "\n",
    "        # Select the top n patches\n",
    "        sorted_patch_indices = torch.argsort(mean_patch_errors, dim=-1, descending=True)\n",
    "        top_patch_indices = sorted_patch_indices[:, :n]\n",
    "\n",
    "        # Calculate the average of the top n patch errors\n",
    "        top_patch_errors = torch.gather(mean_patch_errors, dim=-1, index=top_patch_indices)\n",
    "        avg_top_patch_errors = top_patch_errors.mean()\n",
    "        return avg_top_patch_errors\n",
    "\n",
    "    # Utilities to print batches during training\n",
    "    def show_batch_image(self, batch):\n",
    "        X, Y = batch\n",
    "        image = X[0].detach().cpu().numpy()\n",
    "        plt.figure(figsize=(5, 5))\n",
    "        plt.title(\"Label: {}\".format(Y[0]))\n",
    "        plt.imshow(image[0], cmap='gray')\n",
    "        plt.axis('off')\n",
    "        plt.show()\n",
    "\n",
    "\n",
    "    #The generator is trained to output 1 from normal data and 0 from anomaly data\n",
    "    def training_step(self, batch, batch_idx):\n",
    "        g_opt, d_norm_opt, d_anom_opt = self.optimizers()\n",
    "\n",
    "        X, Y = batch\n",
    "        self.last_batch = batch\n",
    "        batch_size = X.shape[0]\n",
    "\n",
    "        real_label = torch.ones((batch_size, 1), device=self.device)\n",
    "        fake_label = torch.zeros((batch_size, 1), device=self.device)\n",
    "\n",
    "        errD_anomal = 0\n",
    "        errD_normal = 0\n",
    "\n",
    "        # Patch embedding\n",
    "        patch_size = 4\n",
    "        embed_dim = 384\n",
    "#         patch_embedding = PatchEmbedding(patch_size, 1, embed_dim)\n",
    "        \n",
    "        x = ImgNoise(X)\n",
    "\n",
    "        # Normal Case\n",
    "        if (Y.squeeze() == 1):\n",
    "            x = ImgNoise(X)\n",
    "            generated_X = self.G(x)\n",
    "\n",
    "            # print(\"---\\t\", X.shape, generated_X.shape)\n",
    "            # print(\"\\n\")\n",
    "            discriminated_X = self.D_norm(X)\n",
    "            discriminated_G = self.D_norm(generated_X)\n",
    "            encoded_X = self.Enc(X)\n",
    "            # Optimize Discriminator #\n",
    "            d_norm_opt.zero_grad()\n",
    "            \n",
    "#             print(discriminated_G.shape, discriminated_X.shape,fake_label.shape, real_label.shape)\n",
    "            # NORM ADV LOSS\n",
    "            Norm_adv_loss = (((discriminated_X - real_label)**2) + ((discriminated_G - fake_label)**2))\n",
    "\n",
    "            errD_normal = (Norm_adv_loss.mean())\n",
    "\n",
    "            errD = errD_normal\n",
    "            self.manual_backward(errD_normal.mean())\n",
    "            d_norm_opt.step()\n",
    "\n",
    "            # Optimize Generator #\n",
    "            g_opt.zero_grad()\n",
    "            x = ImgNoise(X)\n",
    "            generated_X = self.G(x)\n",
    "            # print(\"---\\t\", X.shape, generated_X.shape)\n",
    "            discriminated_X = self.D_norm(X)\n",
    "            discriminated_G = self.D_norm(generated_X)\n",
    "            encoded_X = self.Enc(generated_X)\n",
    "\n",
    "            # L1 RECONSTRUCTION ERROR\n",
    "            l1_loss = F.l1_loss(X, generated_X)\n",
    "\n",
    "            # PATCH L1 LOSS\n",
    "            patch_loss = self.patch_loss(X, generated_X)\n",
    "\n",
    "            # LATENT VECTOR LOSS\n",
    "            latent_loss = F.l1_loss(encoded_X, self.Enc(generated_X))\n",
    "\n",
    "            # ADVERSARIAL LOSS\n",
    "            norm_adv_loss = ((discriminated_G - real_label)**2)\n",
    "\n",
    "            errG_normal = patch_loss*(1.5) + (norm_adv_loss)*(0.5) + (latent_loss)*(0.5) + (l1_loss)*(1.5)\n",
    "            errG = errG_normal.mean()\n",
    "            self.manual_backward(errG_normal.mean())\n",
    "            g_opt.step()\n",
    "#             wandb.log({\"g_loss\": torch.tensor(errG).mean(), \"d_normal_loss\": torch.tensor(errD).mean()})\n",
    "            self.log_dict({\"g_loss\": torch.tensor(errG).mean(), \"d_normal_loss\": torch.tensor(errD).mean()}, prog_bar=True)\n",
    "\n",
    "        # Anomal Case\n",
    "        else:\n",
    "            x = ImgNoise(X)\n",
    "            generated_X = self.G(x)\n",
    "            # print(\"---\\t\", X.shape, generated_X.shape)\n",
    "            # print(\"\\n\")\n",
    "            discriminated_X = self.D_anom(X)\n",
    "            discriminated_G = self.D_anom(generated_X)\n",
    "\n",
    "            # Optimize Discriminator #\n",
    "            d_anom_opt.zero_grad()\n",
    "\n",
    "            # ANOM ADV LOSS\n",
    "#             print(discriminated_G.shape, discriminated_X.shape,fake_label.shape, real_label.shape )\n",
    "            Anom_adv_loss = ((((discriminated_X - real_label)**2) + ((discriminated_G - fake_label)**2)))\n",
    "\n",
    "            errD_anomal = (Anom_adv_loss.mean())\n",
    "\n",
    "            errD = errD_anomal\n",
    "            self.manual_backward(errD_anomal.mean())\n",
    "            d_anom_opt.step()\n",
    "\n",
    "            # Optimize Generator #\n",
    "            g_opt.zero_grad()\n",
    "            x = ImgNoise(X)\n",
    "            generated_X = self.G(x)\n",
    "            discriminated_X = self.D_anom(X)\n",
    "            discriminated_G = self.D_anom(generated_X)\n",
    "            encoded_X = self.Enc(X)\n",
    "            \n",
    "#             print(discriminated_G.shape, discriminated_X.shape,fake_label.shape, real_label.shape )\n",
    "            # ANOM ADVERS LOSS\n",
    "            anom_adv_loss = ((discriminated_G - fake_label)**2)\n",
    "\n",
    "            # ABC LOSS\n",
    "            abc_loss = -torch.log(1 - torch.exp(-F.l1_loss(generated_X, X)))\n",
    "\n",
    "            errG_anomal = anom_adv_loss*(1) + (abc_loss)*(0.5)\n",
    "            errG = errG_anomal.mean()\n",
    "            self.manual_backward(errG_anomal.mean())\n",
    "            g_opt.step()\n",
    "\n",
    "            self.log_dict({\"g_loss\": errG, \"d_anomal_loss\": errD}, prog_bar=True)\n",
    "#             wandb.log({\"g_loss\": errG, \"d_anomal_loss\": errD})\n",
    "#             wandb.log({\"generated_images\": [wandb.Image(generated_X[i].cpu().detach().numpy()) for i in range(batch_size)]})\n",
    "\n",
    "        return {\"g_loss\": errG, \"d_norm_loss\": errD_normal, \"d_anom_loss\": errD_anomal}\n",
    "\n",
    "\n",
    "    def test_step(self, batch, batch_idx):\n",
    "\n",
    "        X, Y = batch\n",
    "        x = ImgNoise(X).to(\"cuda\")\n",
    "        generated_X = self.G(x)\n",
    "\n",
    "        # Calculate reconstruction error\n",
    "        reconstruction_error = F.mse_loss(generated_X, X, reduction='none')\n",
    "        reconstruction_error = reconstruction_error.view(reconstruction_error.size(0), -1).mean(dim=1)\n",
    "        self.test_step_outputs[0].append(reconstruction_error)\n",
    "        self.test_step_outputs[1].append(Y)\n",
    "\n",
    "        if self.display:\n",
    "            print(\"generated_X:\", generated_X)\n",
    "            print(\"reconstruction_error:\", reconstruction_error)\n",
    "            self.show_batch_image(batch)\n",
    "\n",
    "        return {\"reconstruction_error\": reconstruction_error, \"true_labels\": Y}\n",
    "\n",
    "\n",
    "    def on_test_epoch_end(self):\n",
    "        all_reconstruction_errors = torch.cat(self.test_step_outputs[0])\n",
    "        all_true_labels = torch.cat(self.test_step_outputs[1])\n",
    "\n",
    "        anomaly_threshold = 0.5\n",
    "        predicted_labels = (all_reconstruction_errors < anomaly_threshold).float().cpu().numpy()\n",
    "        true_labels = all_true_labels.squeeze().float().cpu().numpy()\n",
    "\n",
    "        # Calculate AUROC\n",
    "        auroc = roc_auc_score(true_labels, predicted_labels)\n",
    "\n",
    "        self.log(\"auroc\", (auroc), prog_bar=True)\n",
    "        self.auroc = auroc\n",
    "\n",
    "        self.test_step_outputs = [[], []]\n",
    "\n",
    "\n",
    "    def on_train_epoch_end(self):\n",
    "        self.log('g_loss_epoch', self.trainer.logged_metrics['g_loss'].mean(), prog_bar=True)\n",
    "        self.log('d_anomal_loss_epoch', self.trainer.logged_metrics['d_anomal_loss'].mean(), prog_bar=True)\n",
    "        self.log('d_normal_loss_epoch', self.trainer.logged_metrics['d_normal_loss'].mean(), prog_bar=True)\n",
    "\n",
    "\n",
    "        if self.display_end:\n",
    "            input_image_path = \"./0.png\"\n",
    "            input_image = Image.open(input_image_path).convert('L')  # Convert to grayscale\n",
    "            preprocess = transforms.Compose([\n",
    "                transforms.Resize((32, 32)),\n",
    "                transforms.ToTensor(),\n",
    "            ])\n",
    "            input_tensor = preprocess(input_image).unsqueeze(0).cuda()\n",
    "            # Generate output using the trained model\n",
    "            generated_output = self.G(input_tensor)\n",
    "\n",
    "            # Convert generated output tensor to an image\n",
    "            generated_image = generated_output.squeeze().detach().cpu()\n",
    "\n",
    "            reconstruction_error = F.mse_loss(model(input_tensor), input_tensor, reduction='none')\n",
    "            reconstruction_error = reconstruction_error.view(reconstruction_error.size(0), -1).mean(dim=1)\n",
    "\n",
    "            print(\"\\nReconstruction error:\", reconstruction_error)\n",
    "            # Display input and generated images\n",
    "            plt.figure(figsize=(9, 4))\n",
    "            string = 'Input vs. Generated Image'\n",
    "            plt.suptitle(string, fontsize=16)\n",
    "            plt.subplot(1, 2, 1)\n",
    "            plt.title('Input Image')\n",
    "            plt.imshow(input_image, cmap='gray')\n",
    "            plt.axis('off')\n",
    "\n",
    "            plt.subplot(1, 2, 2)\n",
    "            plt.title('Generated Image')\n",
    "            plt.imshow(generated_image, cmap='gray')\n",
    "            plt.axis('off')\n",
    "\n",
    "            plt.tight_layout()\n",
    "            plt.show()\n",
    "\n",
    "    # Manually optimize the 3 parts\n",
    "    def configure_optimizers(self):\n",
    "        lr = self.hparams.lr\n",
    "        b1 = self.hparams.b1\n",
    "        b2 = self.hparams.b2\n",
    "\n",
    "        opt_g = torch.optim.Adam(self.G.parameters(), lr=self.lr, betas=(b1, b2))\n",
    "        opt_d_norm = torch.optim.Adam(self.D_norm.parameters(), lr=self.lr, betas=(b1, b2))\n",
    "        opt_d_anom = torch.optim.Adam(self.D_anom.parameters(), lr=self.lr, betas=(b1, b2))\n",
    "        return opt_g, opt_d_norm, opt_d_anom"
   ]
  },
  {
   "cell_type": "code",
   "execution_count": 38,
   "metadata": {
    "execution": {
     "iopub.execute_input": "2024-03-04T13:54:02.579448Z",
     "iopub.status.busy": "2024-03-04T13:54:02.578719Z",
     "iopub.status.idle": "2024-03-04T13:54:02.584523Z",
     "shell.execute_reply": "2024-03-04T13:54:02.583349Z",
     "shell.execute_reply.started": "2024-03-04T13:54:02.579412Z"
    }
   },
   "outputs": [],
   "source": [
    "# Hyperparameters\n",
    "BATCH_SIZE = 1\n",
    "epochs = 7\n",
    "learning_rate = 0.0001\n",
    "subsampling = False\n",
    "subsamples = 1000\n",
    "accelerator_enabled = True\n",
    "display = False\n",
    "display_end = False"
   ]
  },
  {
   "cell_type": "code",
   "execution_count": 39,
   "metadata": {
    "execution": {
     "iopub.execute_input": "2024-03-04T13:54:05.055335Z",
     "iopub.status.busy": "2024-03-04T13:54:05.054943Z",
     "iopub.status.idle": "2024-03-04T13:54:05.061791Z",
     "shell.execute_reply": "2024-03-04T13:54:05.060740Z",
     "shell.execute_reply.started": "2024-03-04T13:54:05.055305Z"
    }
   },
   "outputs": [],
   "source": [
    "# Utilities\n",
    "checkpoint_path = './GAN/checkpoints'\n",
    "os.makedirs(checkpoint_path, exist_ok=True)\n",
    "\n",
    "checkpoint_callback = ModelCheckpoint(\n",
    "    dirpath=checkpoint_path,\n",
    "    filename=\"GAN_ckpt\",\n",
    "    monitor='auc',\n",
    "    mode='min',\n",
    "    save_last=True,\n",
    "    save_top_k=-1,\n",
    ")\n"
   ]
  },
  {
   "cell_type": "code",
   "execution_count": 40,
   "metadata": {
    "execution": {
     "iopub.execute_input": "2024-03-04T13:54:08.094518Z",
     "iopub.status.busy": "2024-03-04T13:54:08.094176Z",
     "iopub.status.idle": "2024-03-04T13:54:08.099796Z",
     "shell.execute_reply": "2024-03-04T13:54:08.098836Z",
     "shell.execute_reply.started": "2024-03-04T13:54:08.094494Z"
    }
   },
   "outputs": [],
   "source": [
    "# Initialize dataset\n",
    "data_module = AnomalyDetectionDataModule(batch_size=BATCH_SIZE,\n",
    "                                         subsampling=subsampling,\n",
    "                                         subsamples=subsamples,\n",
    "                                         model='GAN',\n",
    "                                         normal_class=0)\n"
   ]
  },
  {
   "cell_type": "code",
   "execution_count": 41,
   "metadata": {
    "execution": {
     "iopub.execute_input": "2024-03-04T13:54:11.048437Z",
     "iopub.status.busy": "2024-03-04T13:54:11.048061Z",
     "iopub.status.idle": "2024-03-04T13:54:11.831857Z",
     "shell.execute_reply": "2024-03-04T13:54:11.831038Z",
     "shell.execute_reply.started": "2024-03-04T13:54:11.048410Z"
    }
   },
   "outputs": [
    {
     "name": "stdout",
     "output_type": "stream",
     "text": [
      "GPU\n"
     ]
    }
   ],
   "source": [
    "# Initialize models and trainers\n",
    "if torch.cuda.is_available() and accelerator_enabled:\n",
    "  print(\"GPU\")\n",
    "  model = GAN_SOTA(lr=learning_rate,\n",
    "                   display=display,\n",
    "                   display_end=display_end).to(\"cuda\")\n",
    "\n",
    "  trainer = pl.Trainer(accelerator=\"cuda\",\n",
    "                       max_epochs=epochs,\n",
    "                       callbacks=[TQDMProgressBar(),\n",
    "                                  checkpoint_callback]\n",
    "                       )\n",
    "else :\n",
    "  print(\"CPU\")\n",
    "  model = GAN_SOTA(lr=learning_rate,\n",
    "                   display=display,\n",
    "                   display_end=display_end).to(\"cpu\")\n",
    "\n",
    "  trainer = pl.Trainer(accelerator=\"cpu\",\n",
    "                       max_epochs=epochs,\n",
    "                       callbacks=[TQDMProgressBar(),\n",
    "                                  checkpoint_callback]\n",
    "                       )\n"
   ]
  },
  {
   "cell_type": "code",
   "execution_count": null,
   "metadata": {},
   "outputs": [],
   "source": []
  },
  {
   "cell_type": "code",
   "execution_count": 11,
   "metadata": {
    "colab": {
     "base_uri": "https://localhost:8080/",
     "height": 1000,
     "referenced_widgets": [
      "b8fe00b078424c26b783a5e11c94e847",
      "9e37265152c54839866834cc43289b91",
      "6ea32e67a55543d6b3efe16d0db8f76c",
      "e50f26d6e6ff4c6582371e002eaaab88",
      "8d72d985253843f5878eba72db8c60d8",
      "69353719dabc43eb91f3ac71c09c9557",
      "03c7c424e8404b7d896436612d4cdd1f",
      "f0ee6b4aa481442b965750108ca30ae9",
      "0a1c307d759e4e1c956c026946048622",
      "dbe3d5fb4b904895b9faeea15acd0f39",
      "844da97278f443bdaba3d952bbee95ee",
      "adbf533daecf4c559dc8507e7341c6c7",
      "3119ed2a3aa3482b982cfa05ede2f9d4",
      "71ceae09050146f68039f25a7f60b190",
      "90f52ab8fd1d477799334f50fe1a4feb",
      "f710744ba13749eeb90d1d44e82c1768",
      "bf24ea4850b44601bd9c65357c68076b",
      "744e4524be60454388fedd1276dbd990",
      "93e4c9c2a1ef4514903bd09b127fa06a",
      "45722c45759e44f292e67f46fbabce2a",
      "50a5ee44d3514e908343f18789d24a17",
      "846dc2bc865d4312957fc88ddbfb709e"
     ]
    },
    "id": "Z6IlPXr0xBOg",
    "outputId": "eb403dce-a7d4-4a81-a273-9379cfcb788c"
   },
   "outputs": [
    {
     "name": "stderr",
     "output_type": "stream",
     "text": [
      "WARNING:pytorch_lightning.loggers.tensorboard:Missing logger folder: /content/lightning_logs\n"
     ]
    },
    {
     "name": "stdout",
     "output_type": "stream",
     "text": [
      "Downloading https://www.cs.toronto.edu/~kriz/cifar-10-python.tar.gz to ./cifar-10-python.tar.gz\n"
     ]
    },
    {
     "name": "stderr",
     "output_type": "stream",
     "text": [
      "100%|██████████| 170498071/170498071 [00:04<00:00, 38399771.06it/s]\n"
     ]
    },
    {
     "name": "stdout",
     "output_type": "stream",
     "text": [
      "Extracting ./cifar-10-python.tar.gz to ./\n"
     ]
    },
    {
     "name": "stderr",
     "output_type": "stream",
     "text": [
      "INFO:pytorch_lightning.accelerators.cuda:LOCAL_RANK: 0 - CUDA_VISIBLE_DEVICES: [0]\n",
      "INFO:pytorch_lightning.callbacks.model_summary:\n",
      "  | Name   | Type          | Params\n",
      "-----------------------------------------\n",
      "0 | G      | GENERATOR     | 5.5 M \n",
      "1 | Enc    | ENCODER       | 2.8 M \n",
      "2 | D_norm | DISCRIMINATOR | 298 K \n",
      "3 | D_anom | DISCRIMINATOR | 298 K \n",
      "-----------------------------------------\n",
      "6.1 M     Trainable params\n",
      "0         Non-trainable params\n",
      "6.1 M     Total params\n",
      "24.441    Total estimated model params size (MB)\n"
     ]
    },
    {
     "data": {
      "application/vnd.jupyter.widget-view+json": {
       "model_id": "b8fe00b078424c26b783a5e11c94e847",
       "version_major": 2,
       "version_minor": 0
      },
      "text/plain": [
       "Training: |          | 0/? [00:00<?, ?it/s]"
      ]
     },
     "metadata": {},
     "output_type": "display_data"
    },
    {
     "name": "stderr",
     "output_type": "stream",
     "text": [
      "<ipython-input-6-4313bf74b14d>:187: UserWarning: To copy construct from a tensor, it is recommended to use sourceTensor.clone().detach() or sourceTensor.clone().detach().requires_grad_(True), rather than torch.tensor(sourceTensor).\n",
      "  self.log_dict({\"g_loss\": torch.tensor(errG).mean(), \"d_normal_loss\": torch.tensor(errD).mean()}, prog_bar=True)\n",
      "/usr/local/lib/python3.10/dist-packages/pytorch_lightning/callbacks/model_checkpoint.py:383: `ModelCheckpoint(monitor='auc')` could not find the monitored key in the returned metrics: ['g_loss', 'd_normal_loss', 'd_anomal_loss', 'g_loss_epoch', 'd_anomal_loss_epoch', 'd_normal_loss_epoch', 'epoch', 'step']. HINT: Did you call `log('auc', value)` in the `LightningModule`?\n",
      "INFO:pytorch_lightning.utilities.rank_zero:`Trainer.fit` stopped: `max_epochs=7` reached.\n"
     ]
    },
    {
     "name": "stdout",
     "output_type": "stream",
     "text": [
      "Files already downloaded and verified\n"
     ]
    },
    {
     "name": "stderr",
     "output_type": "stream",
     "text": [
      "INFO:pytorch_lightning.accelerators.cuda:LOCAL_RANK: 0 - CUDA_VISIBLE_DEVICES: [0]\n"
     ]
    },
    {
     "data": {
      "application/vnd.jupyter.widget-view+json": {
       "model_id": "adbf533daecf4c559dc8507e7341c6c7",
       "version_major": 2,
       "version_minor": 0
      },
      "text/plain": [
       "Testing: |          | 0/? [00:00<?, ?it/s]"
      ]
     },
     "metadata": {},
     "output_type": "display_data"
    },
    {
     "data": {
      "image/png": "[encoded data removed]",
      "text/plain": [
       "<Figure size 640x480 with 1 Axes>"
      ]
     },
     "metadata": {},
     "output_type": "display_data"
    },
    {
     "data": {
      "text/html": [
       "<pre style=\"white-space:pre;overflow-x:auto;line-height:normal;font-family:Menlo,'DejaVu Sans Mono',consolas,'Courier New',monospace\">┏━━━━━━━━━━━━━━━━━━━━━━━━━━━┳━━━━━━━━━━━━━━━━━━━━━━━━━━━┓\n",
       "┃<span style=\"font-weight: bold\">        Test metric        </span>┃<span style=\"font-weight: bold\">       DataLoader 0        </span>┃\n",
       "┡━━━━━━━━━━━━━━━━━━━━━━━━━━━╇━━━━━━━━━━━━━━━━━━━━━━━━━━━┩\n",
       "│<span style=\"color: #008080; text-decoration-color: #008080\">           auroc           </span>│<span style=\"color: #800080; text-decoration-color: #800080\">     0.779844343662262     </span>│\n",
       "└───────────────────────────┴───────────────────────────┘\n",
       "</pre>\n"
      ],
      "text/plain": [
       "┏━━━━━━━━━━━━━━━━━━━━━━━━━━━┳━━━━━━━━━━━━━━━━━━━━━━━━━━━┓\n",
       "┃\u001b[1m \u001b[0m\u001b[1m       Test metric       \u001b[0m\u001b[1m \u001b[0m┃\u001b[1m \u001b[0m\u001b[1m      DataLoader 0       \u001b[0m\u001b[1m \u001b[0m┃\n",
       "┡━━━━━━━━━━━━━━━━━━━━━━━━━━━╇━━━━━━━━━━━━━━━━━━━━━━━━━━━┩\n",
       "│\u001b[36m \u001b[0m\u001b[36m          auroc          \u001b[0m\u001b[36m \u001b[0m│\u001b[35m \u001b[0m\u001b[35m    0.779844343662262    \u001b[0m\u001b[35m \u001b[0m│\n",
       "└───────────────────────────┴───────────────────────────┘\n"
      ]
     },
     "metadata": {},
     "output_type": "display_data"
    },
    {
     "name": "stdout",
     "output_type": "stream",
     "text": [
      "[{'auroc': 0.779844343662262}]\n"
     ]
    }
   ],
   "source": [
    "# Train and save\n",
    "trainer.fit(model, data_module)\n",
    "trainer.save_checkpoint(\"/GAN/checkpoints/GAN_0.ckpt\")\n",
    "torch.save(model.state_dict(), \"./GAN/GAN_0\")\n",
    "\n",
    "# Testing\n",
    "test_results = trainer.test(model, data_module)\n",
    "print(test_results)"
   ]
  }
 ],
 "metadata": {
  "kaggle": {
   "accelerator": "nvidiaTeslaT4",
   "dataSources": [
    {
     "modelInstanceId": 11342,
     "sourceId": 13706,
     "sourceType": "modelInstanceVersion"
    }
   ],
   "dockerImageVersionId": 30665,
   "isGpuEnabled": true,
   "isInternetEnabled": true,
   "language": "python",
   "sourceType": "notebook"
  },
  "kernelspec": {
   "display_name": "Python 3 (ipykernel)",
   "language": "python",
   "name": "python3"
  },
  "language_info": {
   "codemirror_mode": {
    "name": "ipython",
    "version": 3
   },
   "file_extension": ".py",
   "mimetype": "text/x-python",
   "name": "python",
   "nbconvert_exporter": "python",
   "pygments_lexer": "ipython3",
   "version": "3.11.2"
  }
 },
 "nbformat": 4,
 "nbformat_minor": 4
}
